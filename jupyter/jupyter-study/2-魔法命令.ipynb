{
 "cells": [
  {
   "cell_type": "code",
   "execution_count": null,
   "id": "edd11545-f63d-4492-a865-b2834fad116b",
   "metadata": {},
   "outputs": [],
   "source": [
    "def hello(string):\n",
    "    return \"hello \" + string\n",
    "\n",
    "print(hello(\"world\"))"
   ]
  },
  {
   "cell_type": "code",
   "execution_count": 3,
   "id": "ee3c03dd-2d47-4c4f-9cb9-0d659f08687c",
   "metadata": {},
   "outputs": [
    {
     "name": "stdout",
     "output_type": "stream",
     "text": [
      "Hello world ~\n"
     ]
    }
   ],
   "source": [
    "%run scripts/hello.py"
   ]
  },
  {
   "cell_type": "code",
   "execution_count": 4,
   "id": "98e2f9ce-4c51-4cf8-b92e-da4692f7cb4e",
   "metadata": {},
   "outputs": [
    {
     "name": "stdout",
     "output_type": "stream",
     "text": [
      "4.27 ms ± 119 µs per loop (mean ± std. dev. of 7 runs, 100 loops each)\n"
     ]
    }
   ],
   "source": [
    "%timeit L = [i**2 for i in range(10000)]"
   ]
  },
  {
   "cell_type": "code",
   "execution_count": 5,
   "id": "c0ccc57d-eacb-4513-a478-08a9e16257e6",
   "metadata": {},
   "outputs": [
    {
     "name": "stdout",
     "output_type": "stream",
     "text": [
      "40.4 ms ± 2.11 ms per loop (mean ± std. dev. of 7 runs, 10 loops each)\n"
     ]
    }
   ],
   "source": [
    "%%timeit\n",
    "L = []\n",
    "for n in range(100000):\n",
    "    L.append(n ** 2)"
   ]
  },
  {
   "cell_type": "code",
   "execution_count": 6,
   "id": "cab5fb91-82d0-4143-9934-7d64f6f31a07",
   "metadata": {},
   "outputs": [
    {
     "name": "stdout",
     "output_type": "stream",
     "text": [
      "CPU times: user 4.71 ms, sys: 391 µs, total: 5.1 ms\n",
      "Wall time: 5.29 ms\n"
     ]
    }
   ],
   "source": [
    "%time L = [i**2 for i in range(10000)]"
   ]
  },
  {
   "cell_type": "code",
   "execution_count": 7,
   "id": "5d927b40-1a01-4637-ba40-034cf5217e24",
   "metadata": {},
   "outputs": [],
   "source": [
    "%timeit\n",
    "L = []\n",
    "for n in range(100000):\n",
    "    L.append(n ** 2)"
   ]
  },
  {
   "cell_type": "code",
   "execution_count": null,
   "id": "175e70be-c6f4-4166-ae12-7c9cce49e35c",
   "metadata": {},
   "outputs": [],
   "source": []
  }
 ],
 "metadata": {
  "kernelspec": {
   "display_name": "Python 3",
   "language": "python",
   "name": "python3"
  },
  "language_info": {
   "codemirror_mode": {
    "name": "ipython",
    "version": 3
   },
   "file_extension": ".py",
   "mimetype": "text/x-python",
   "name": "python",
   "nbconvert_exporter": "python",
   "pygments_lexer": "ipython3",
   "version": "3.9.4"
  }
 },
 "nbformat": 4,
 "nbformat_minor": 5
}
