{
 "metadata": {
  "language_info": {
   "codemirror_mode": {
    "name": "ipython",
    "version": 3
   },
   "file_extension": ".py",
   "mimetype": "text/x-python",
   "name": "python",
   "nbconvert_exporter": "python",
   "pygments_lexer": "ipython3",
   "version": "3.8.3"
  },
  "orig_nbformat": 4,
  "kernelspec": {
   "name": "python3",
   "display_name": "Python 3.8.3 64-bit"
  },
  "interpreter": {
   "hash": "2db524e06e9f5f4ffedc911c917cb75e12dbc923643829bf417064a77eb14d37"
  }
 },
 "nbformat": 4,
 "nbformat_minor": 2,
 "cells": [
  {
   "source": [
    "# 数据归一化处理"
   ],
   "cell_type": "markdown",
   "metadata": {}
  },
  {
   "source": [
    "## 均值方差归一法"
   ],
   "cell_type": "markdown",
   "metadata": {}
  },
  {
   "cell_type": "code",
   "execution_count": 23,
   "metadata": {},
   "outputs": [],
   "source": [
    "import numpy as np"
   ]
  },
  {
   "cell_type": "code",
   "execution_count": 24,
   "metadata": {},
   "outputs": [
    {
     "output_type": "execute_result",
     "data": {
      "text/plain": [
       "array([[21., 29.],\n",
       "       [26., 92.],\n",
       "       [46., 74.],\n",
       "       [ 0., 29.],\n",
       "       [75., 82.],\n",
       "       [66., 12.],\n",
       "       [62., 59.],\n",
       "       [77., 86.],\n",
       "       [67., 45.],\n",
       "       [88., 55.],\n",
       "       [57., 76.],\n",
       "       [93., 11.],\n",
       "       [85., 55.],\n",
       "       [33., 30.],\n",
       "       [31., 98.],\n",
       "       [80., 94.],\n",
       "       [67., 82.],\n",
       "       [72., 21.],\n",
       "       [88., 24.],\n",
       "       [23., 64.],\n",
       "       [65., 68.],\n",
       "       [94., 67.],\n",
       "       [ 4., 13.],\n",
       "       [ 0., 74.],\n",
       "       [64., 75.],\n",
       "       [57., 21.],\n",
       "       [38., 50.],\n",
       "       [89.,  1.],\n",
       "       [32., 35.],\n",
       "       [33., 99.],\n",
       "       [25., 85.],\n",
       "       [77., 76.],\n",
       "       [29., 94.],\n",
       "       [24., 77.],\n",
       "       [15.,  2.],\n",
       "       [88., 55.],\n",
       "       [26., 50.],\n",
       "       [44., 94.],\n",
       "       [62., 70.],\n",
       "       [55., 85.],\n",
       "       [34., 13.],\n",
       "       [55.,  6.],\n",
       "       [ 6., 13.],\n",
       "       [63., 20.],\n",
       "       [97., 20.],\n",
       "       [97., 67.],\n",
       "       [72., 95.],\n",
       "       [16.,  5.],\n",
       "       [20., 40.],\n",
       "       [86., 72.],\n",
       "       [71., 61.],\n",
       "       [89., 77.],\n",
       "       [66.,  9.],\n",
       "       [10., 66.],\n",
       "       [63., 56.],\n",
       "       [79., 94.],\n",
       "       [36., 49.],\n",
       "       [96., 93.],\n",
       "       [98., 23.],\n",
       "       [ 5.,  4.],\n",
       "       [36., 38.],\n",
       "       [31., 27.],\n",
       "       [ 6., 70.],\n",
       "       [45., 64.],\n",
       "       [23., 69.],\n",
       "       [ 6.,  3.],\n",
       "       [36., 64.],\n",
       "       [73., 33.],\n",
       "       [31., 26.],\n",
       "       [22., 60.],\n",
       "       [16., 54.],\n",
       "       [14.,  0.],\n",
       "       [25., 20.],\n",
       "       [ 1., 60.],\n",
       "       [19., 20.],\n",
       "       [87., 68.],\n",
       "       [67., 64.],\n",
       "       [10., 20.],\n",
       "       [90., 85.],\n",
       "       [76.,  7.],\n",
       "       [68., 54.],\n",
       "       [34., 29.],\n",
       "       [ 4., 14.],\n",
       "       [ 3., 46.],\n",
       "       [95., 34.],\n",
       "       [11., 80.],\n",
       "       [22., 25.],\n",
       "       [65., 33.],\n",
       "       [75., 98.],\n",
       "       [22., 82.],\n",
       "       [78., 60.],\n",
       "       [67., 76.],\n",
       "       [14., 50.],\n",
       "       [ 3., 83.],\n",
       "       [80., 53.],\n",
       "       [54., 42.],\n",
       "       [77., 72.],\n",
       "       [ 4.,  2.],\n",
       "       [63., 58.],\n",
       "       [56., 15.]])"
      ]
     },
     "metadata": {},
     "execution_count": 24
    }
   ],
   "source": [
    "x = np.random.randint(0, 100, (100, 2))\n",
    "x = np.array(x, dtype=float)\n",
    "x"
   ]
  },
  {
   "cell_type": "code",
   "execution_count": 25,
   "metadata": {},
   "outputs": [
    {
     "output_type": "execute_result",
     "data": {
      "text/plain": [
       "array([[-0.91244424, -0.74119866],\n",
       "       [-0.74630363,  1.43068578],\n",
       "       [-0.08174118,  0.81014737],\n",
       "       [-1.61023481, -0.74119866],\n",
       "       [ 0.88187437,  1.08594222],\n",
       "       [ 0.58282127, -1.32726272],\n",
       "       [ 0.44990878,  0.29303203],\n",
       "       [ 0.94833061,  1.22383965],\n",
       "       [ 0.61604939, -0.18960896],\n",
       "       [ 1.31383996,  0.1551346 ],\n",
       "       [ 0.28376817,  0.87909608],\n",
       "       [ 1.47998057, -1.36173707],\n",
       "       [ 1.21415559,  0.1551346 ],\n",
       "       [-0.51370677, -0.7067243 ],\n",
       "       [-0.58016302,  1.63753192],\n",
       "       [ 1.04801498,  1.4996345 ],\n",
       "       [ 0.61604939,  1.08594222],\n",
       "       [ 0.78219   , -1.01699351],\n",
       "       [ 1.31383996, -0.91357044],\n",
       "       [-0.845988  ,  0.46540381],\n",
       "       [ 0.54959315,  0.60330123],\n",
       "       [ 1.5132087 ,  0.56882688],\n",
       "       [-1.47732232, -1.29278836],\n",
       "       [-1.61023481,  0.81014737],\n",
       "       [ 0.51636502,  0.84462173],\n",
       "       [ 0.28376817, -1.01699351],\n",
       "       [-0.34756616, -0.01723718],\n",
       "       [ 1.34706808, -1.70648064],\n",
       "       [-0.5469349 , -0.53435252],\n",
       "       [-0.51370677,  1.67200628],\n",
       "       [-0.77953175,  1.18936529],\n",
       "       [ 0.94833061,  0.87909608],\n",
       "       [-0.64661926,  1.4996345 ],\n",
       "       [-0.81275988,  0.91357044],\n",
       "       [-1.11181298, -1.67200628],\n",
       "       [ 1.31383996,  0.1551346 ],\n",
       "       [-0.74630363, -0.01723718],\n",
       "       [-0.14819743,  1.4996345 ],\n",
       "       [ 0.44990878,  0.67224995],\n",
       "       [ 0.21731192,  1.18936529],\n",
       "       [-0.48047865, -1.29278836],\n",
       "       [ 0.21731192, -1.53410885],\n",
       "       [-1.41086608, -1.29278836],\n",
       "       [ 0.4831369 , -1.05146787],\n",
       "       [ 1.61289306, -1.05146787],\n",
       "       [ 1.61289306,  0.56882688],\n",
       "       [ 0.78219   ,  1.53410885],\n",
       "       [-1.07858485, -1.56858321],\n",
       "       [-0.94567236, -0.36198074],\n",
       "       [ 1.24738372,  0.74119866],\n",
       "       [ 0.74896188,  0.36198074],\n",
       "       [ 1.34706808,  0.91357044],\n",
       "       [ 0.58282127, -1.43068578],\n",
       "       [-1.27795359,  0.53435252],\n",
       "       [ 0.4831369 ,  0.18960896],\n",
       "       [ 1.01478686,  1.4996345 ],\n",
       "       [-0.41402241, -0.05171153],\n",
       "       [ 1.57966494,  1.46516014],\n",
       "       [ 1.64612119, -0.9480448 ],\n",
       "       [-1.4440942 , -1.60305757],\n",
       "       [-0.41402241, -0.43092945],\n",
       "       [-0.58016302, -0.81014737],\n",
       "       [-1.41086608,  0.67224995],\n",
       "       [-0.1149693 ,  0.46540381],\n",
       "       [-0.845988  ,  0.63777559],\n",
       "       [-1.41086608, -1.63753192],\n",
       "       [-0.41402241,  0.46540381],\n",
       "       [ 0.81541812, -0.60330123],\n",
       "       [-0.58016302, -0.84462173],\n",
       "       [-0.87921612,  0.32750638],\n",
       "       [-1.07858485,  0.12066025],\n",
       "       [-1.1450411 , -1.74095499],\n",
       "       [-0.77953175, -1.05146787],\n",
       "       [-1.57700669,  0.32750638],\n",
       "       [-0.97890049, -1.05146787],\n",
       "       [ 1.28061184,  0.60330123],\n",
       "       [ 0.61604939,  0.46540381],\n",
       "       [-1.27795359, -1.05146787],\n",
       "       [ 1.38029621,  1.18936529],\n",
       "       [ 0.91510249, -1.4996345 ],\n",
       "       [ 0.64927751,  0.12066025],\n",
       "       [-0.48047865, -0.74119866],\n",
       "       [-1.47732232, -1.258314  ],\n",
       "       [-1.51055045, -0.1551346 ],\n",
       "       [ 1.54643682, -0.56882688],\n",
       "       [-1.24472547,  1.01699351],\n",
       "       [-0.87921612, -0.87909608],\n",
       "       [ 0.54959315, -0.60330123],\n",
       "       [ 0.88187437,  1.63753192],\n",
       "       [-0.87921612,  1.08594222],\n",
       "       [ 0.98155874,  0.32750638],\n",
       "       [ 0.61604939,  0.87909608],\n",
       "       [-1.1450411 , -0.01723718],\n",
       "       [-1.51055045,  1.12041658],\n",
       "       [ 1.04801498,  0.08618589],\n",
       "       [ 0.1840838 , -0.29303203],\n",
       "       [ 0.94833061,  0.74119866],\n",
       "       [-1.47732232, -1.67200628],\n",
       "       [ 0.4831369 ,  0.25855767],\n",
       "       [ 0.25054004, -1.22383965]])"
      ]
     },
     "metadata": {},
     "execution_count": 25
    }
   ],
   "source": [
    "x[:,0] = (x[:,0]-np.mean(x[:,0]))/np.std(x[:,0])\n",
    "x[:,1] = (x[:,1]-np.mean(x[:,1]))/np.std(x[:,1])\n",
    "x"
   ]
  },
  {
   "cell_type": "code",
   "execution_count": 26,
   "metadata": {},
   "outputs": [],
   "source": [
    "import matplotlib.pyplot as plt"
   ]
  },
  {
   "cell_type": "code",
   "execution_count": 27,
   "metadata": {},
   "outputs": [
    {
     "output_type": "display_data",
     "data": {
      "text/plain": "<Figure size 432x288 with 1 Axes>",
      "image/svg+xml": "<?xml version=\"1.0\" encoding=\"utf-8\" standalone=\"no\"?>\r\n<!DOCTYPE svg PUBLIC \"-//W3C//DTD SVG 1.1//EN\"\r\n  \"http://www.w3.org/Graphics/SVG/1.1/DTD/svg11.dtd\">\r\n<svg height=\"248.518125pt\" version=\"1.1\" viewBox=\"0 0 380.482813 248.518125\" width=\"380.482813pt\" xmlns=\"http://www.w3.org/2000/svg\" xmlns:xlink=\"http://www.w3.org/1999/xlink\">\r\n <metadata>\r\n  <rdf:RDF xmlns:cc=\"http://creativecommons.org/ns#\" xmlns:dc=\"http://purl.org/dc/elements/1.1/\" xmlns:rdf=\"http://www.w3.org/1999/02/22-rdf-syntax-ns#\">\r\n   <cc:Work>\r\n    <dc:type rdf:resource=\"http://purl.org/dc/dcmitype/StillImage\"/>\r\n    <dc:date>2021-06-21T09:57:19.387015</dc:date>\r\n    <dc:format>image/svg+xml</dc:format>\r\n    <dc:creator>\r\n     <cc:Agent>\r\n      <dc:title>Matplotlib v3.4.2, https://matplotlib.org/</dc:title>\r\n     </cc:Agent>\r\n    </dc:creator>\r\n   </cc:Work>\r\n  </rdf:RDF>\r\n </metadata>\r\n <defs>\r\n  <style type=\"text/css\">*{stroke-linecap:butt;stroke-linejoin:round;}</style>\r\n </defs>\r\n <g id=\"figure_1\">\r\n  <g id=\"patch_1\">\r\n   <path d=\"M -0 248.518125 \r\nL 380.482813 248.518125 \r\nL 380.482813 0 \r\nL -0 0 \r\nz\r\n\" style=\"fill:none;\"/>\r\n  </g>\r\n  <g id=\"axes_1\">\r\n   <g id=\"patch_2\">\r\n    <path d=\"M 38.482813 224.64 \r\nL 373.282813 224.64 \r\nL 373.282813 7.2 \r\nL 38.482813 7.2 \r\nz\r\n\" style=\"fill:#ffffff;\"/>\r\n   </g>\r\n   <g id=\"PathCollection_1\">\r\n    <defs>\r\n     <path d=\"M 0 3 \r\nC 0.795609 3 1.55874 2.683901 2.12132 2.12132 \r\nC 2.683901 1.55874 3 0.795609 3 0 \r\nC 3 -0.795609 2.683901 -1.55874 2.12132 -2.12132 \r\nC 1.55874 -2.683901 0.795609 -3 0 -3 \r\nC -0.795609 -3 -1.55874 -2.683901 -2.12132 -2.12132 \r\nC -2.683901 -1.55874 -3 -0.795609 -3 0 \r\nC -3 0.795609 -2.683901 1.55874 -2.12132 2.12132 \r\nC -1.55874 2.683901 -0.795609 3 0 3 \r\nz\r\n\" id=\"m9d73db56e9\" style=\"stroke:#1f77b4;\"/>\r\n    </defs>\r\n    <g clip-path=\"url(#p5295e2a17a)\">\r\n     <use style=\"fill:#1f77b4;stroke:#1f77b4;\" x=\"118.921774\" xlink:href=\"#m9d73db56e9\" y=\"156.852231\"/>\r\n     <use style=\"fill:#1f77b4;stroke:#1f77b4;\" x=\"134.45053\" xlink:href=\"#m9d73db56e9\" y=\"31.060496\"/>\r\n     <use style=\"fill:#1f77b4;stroke:#1f77b4;\" x=\"196.565558\" xlink:href=\"#m9d73db56e9\" y=\"67.000992\"/>\r\n     <use style=\"fill:#1f77b4;stroke:#1f77b4;\" x=\"53.700994\" xlink:href=\"#m9d73db56e9\" y=\"156.852231\"/>\r\n     <use style=\"fill:#1f77b4;stroke:#1f77b4;\" x=\"286.632349\" xlink:href=\"#m9d73db56e9\" y=\"51.027438\"/>\r\n     <use style=\"fill:#1f77b4;stroke:#1f77b4;\" x=\"258.680586\" xlink:href=\"#m9d73db56e9\" y=\"190.796033\"/>\r\n     <use style=\"fill:#1f77b4;stroke:#1f77b4;\" x=\"246.257581\" xlink:href=\"#m9d73db56e9\" y=\"96.951405\"/>\r\n     <use style=\"fill:#1f77b4;stroke:#1f77b4;\" x=\"292.843851\" xlink:href=\"#m9d73db56e9\" y=\"43.040661\"/>\r\n     <use style=\"fill:#1f77b4;stroke:#1f77b4;\" x=\"261.786338\" xlink:href=\"#m9d73db56e9\" y=\"124.905124\"/>\r\n     <use style=\"fill:#1f77b4;stroke:#1f77b4;\" x=\"327.007117\" xlink:href=\"#m9d73db56e9\" y=\"104.938182\"/>\r\n     <use style=\"fill:#1f77b4;stroke:#1f77b4;\" x=\"230.728824\" xlink:href=\"#m9d73db56e9\" y=\"63.007603\"/>\r\n     <use style=\"fill:#1f77b4;stroke:#1f77b4;\" x=\"342.535874\" xlink:href=\"#m9d73db56e9\" y=\"192.792727\"/>\r\n     <use style=\"fill:#1f77b4;stroke:#1f77b4;\" x=\"317.689863\" xlink:href=\"#m9d73db56e9\" y=\"104.938182\"/>\r\n     <use style=\"fill:#1f77b4;stroke:#1f77b4;\" x=\"156.19079\" xlink:href=\"#m9d73db56e9\" y=\"154.855537\"/>\r\n     <use style=\"fill:#1f77b4;stroke:#1f77b4;\" x=\"149.979287\" xlink:href=\"#m9d73db56e9\" y=\"19.080331\"/>\r\n     <use style=\"fill:#1f77b4;stroke:#1f77b4;\" x=\"302.161106\" xlink:href=\"#m9d73db56e9\" y=\"27.067107\"/>\r\n     <use style=\"fill:#1f77b4;stroke:#1f77b4;\" x=\"261.786338\" xlink:href=\"#m9d73db56e9\" y=\"51.027438\"/>\r\n     <use style=\"fill:#1f77b4;stroke:#1f77b4;\" x=\"277.315095\" xlink:href=\"#m9d73db56e9\" y=\"172.825785\"/>\r\n     <use style=\"fill:#1f77b4;stroke:#1f77b4;\" x=\"327.007117\" xlink:href=\"#m9d73db56e9\" y=\"166.835702\"/>\r\n     <use style=\"fill:#1f77b4;stroke:#1f77b4;\" x=\"125.133276\" xlink:href=\"#m9d73db56e9\" y=\"86.967934\"/>\r\n     <use style=\"fill:#1f77b4;stroke:#1f77b4;\" x=\"255.574835\" xlink:href=\"#m9d73db56e9\" y=\"78.981157\"/>\r\n     <use style=\"fill:#1f77b4;stroke:#1f77b4;\" x=\"345.641625\" xlink:href=\"#m9d73db56e9\" y=\"80.977851\"/>\r\n     <use style=\"fill:#1f77b4;stroke:#1f77b4;\" x=\"66.124\" xlink:href=\"#m9d73db56e9\" y=\"188.799339\"/>\r\n     <use style=\"fill:#1f77b4;stroke:#1f77b4;\" x=\"53.700994\" xlink:href=\"#m9d73db56e9\" y=\"67.000992\"/>\r\n     <use style=\"fill:#1f77b4;stroke:#1f77b4;\" x=\"252.469083\" xlink:href=\"#m9d73db56e9\" y=\"65.004298\"/>\r\n     <use style=\"fill:#1f77b4;stroke:#1f77b4;\" x=\"230.728824\" xlink:href=\"#m9d73db56e9\" y=\"172.825785\"/>\r\n     <use style=\"fill:#1f77b4;stroke:#1f77b4;\" x=\"171.719547\" xlink:href=\"#m9d73db56e9\" y=\"114.921653\"/>\r\n     <use style=\"fill:#1f77b4;stroke:#1f77b4;\" x=\"330.112868\" xlink:href=\"#m9d73db56e9\" y=\"212.759669\"/>\r\n     <use style=\"fill:#1f77b4;stroke:#1f77b4;\" x=\"153.085039\" xlink:href=\"#m9d73db56e9\" y=\"144.872066\"/>\r\n     <use style=\"fill:#1f77b4;stroke:#1f77b4;\" x=\"156.19079\" xlink:href=\"#m9d73db56e9\" y=\"17.083636\"/>\r\n     <use style=\"fill:#1f77b4;stroke:#1f77b4;\" x=\"131.344779\" xlink:href=\"#m9d73db56e9\" y=\"45.037355\"/>\r\n     <use style=\"fill:#1f77b4;stroke:#1f77b4;\" x=\"292.843851\" xlink:href=\"#m9d73db56e9\" y=\"63.007603\"/>\r\n     <use style=\"fill:#1f77b4;stroke:#1f77b4;\" x=\"143.767785\" xlink:href=\"#m9d73db56e9\" y=\"27.067107\"/>\r\n     <use style=\"fill:#1f77b4;stroke:#1f77b4;\" x=\"128.239028\" xlink:href=\"#m9d73db56e9\" y=\"61.010909\"/>\r\n     <use style=\"fill:#1f77b4;stroke:#1f77b4;\" x=\"100.287265\" xlink:href=\"#m9d73db56e9\" y=\"210.762975\"/>\r\n     <use style=\"fill:#1f77b4;stroke:#1f77b4;\" x=\"327.007117\" xlink:href=\"#m9d73db56e9\" y=\"104.938182\"/>\r\n     <use style=\"fill:#1f77b4;stroke:#1f77b4;\" x=\"134.45053\" xlink:href=\"#m9d73db56e9\" y=\"114.921653\"/>\r\n     <use style=\"fill:#1f77b4;stroke:#1f77b4;\" x=\"190.354056\" xlink:href=\"#m9d73db56e9\" y=\"27.067107\"/>\r\n     <use style=\"fill:#1f77b4;stroke:#1f77b4;\" x=\"246.257581\" xlink:href=\"#m9d73db56e9\" y=\"74.987769\"/>\r\n     <use style=\"fill:#1f77b4;stroke:#1f77b4;\" x=\"224.517321\" xlink:href=\"#m9d73db56e9\" y=\"45.037355\"/>\r\n     <use style=\"fill:#1f77b4;stroke:#1f77b4;\" x=\"159.296542\" xlink:href=\"#m9d73db56e9\" y=\"188.799339\"/>\r\n     <use style=\"fill:#1f77b4;stroke:#1f77b4;\" x=\"224.517321\" xlink:href=\"#m9d73db56e9\" y=\"202.776198\"/>\r\n     <use style=\"fill:#1f77b4;stroke:#1f77b4;\" x=\"72.335503\" xlink:href=\"#m9d73db56e9\" y=\"188.799339\"/>\r\n     <use style=\"fill:#1f77b4;stroke:#1f77b4;\" x=\"249.363332\" xlink:href=\"#m9d73db56e9\" y=\"174.822479\"/>\r\n     <use style=\"fill:#1f77b4;stroke:#1f77b4;\" x=\"354.958879\" xlink:href=\"#m9d73db56e9\" y=\"174.822479\"/>\r\n     <use style=\"fill:#1f77b4;stroke:#1f77b4;\" x=\"354.958879\" xlink:href=\"#m9d73db56e9\" y=\"80.977851\"/>\r\n     <use style=\"fill:#1f77b4;stroke:#1f77b4;\" x=\"277.315095\" xlink:href=\"#m9d73db56e9\" y=\"25.070413\"/>\r\n     <use style=\"fill:#1f77b4;stroke:#1f77b4;\" x=\"103.393017\" xlink:href=\"#m9d73db56e9\" y=\"204.772893\"/>\r\n     <use style=\"fill:#1f77b4;stroke:#1f77b4;\" x=\"115.816022\" xlink:href=\"#m9d73db56e9\" y=\"134.888595\"/>\r\n     <use style=\"fill:#1f77b4;stroke:#1f77b4;\" x=\"320.795614\" xlink:href=\"#m9d73db56e9\" y=\"70.99438\"/>\r\n     <use style=\"fill:#1f77b4;stroke:#1f77b4;\" x=\"274.209343\" xlink:href=\"#m9d73db56e9\" y=\"92.958017\"/>\r\n     <use style=\"fill:#1f77b4;stroke:#1f77b4;\" x=\"330.112868\" xlink:href=\"#m9d73db56e9\" y=\"61.010909\"/>\r\n     <use style=\"fill:#1f77b4;stroke:#1f77b4;\" x=\"258.680586\" xlink:href=\"#m9d73db56e9\" y=\"196.786116\"/>\r\n     <use style=\"fill:#1f77b4;stroke:#1f77b4;\" x=\"84.758508\" xlink:href=\"#m9d73db56e9\" y=\"82.974545\"/>\r\n     <use style=\"fill:#1f77b4;stroke:#1f77b4;\" x=\"249.363332\" xlink:href=\"#m9d73db56e9\" y=\"102.941488\"/>\r\n     <use style=\"fill:#1f77b4;stroke:#1f77b4;\" x=\"299.055354\" xlink:href=\"#m9d73db56e9\" y=\"27.067107\"/>\r\n     <use style=\"fill:#1f77b4;stroke:#1f77b4;\" x=\"165.508044\" xlink:href=\"#m9d73db56e9\" y=\"116.918347\"/>\r\n     <use style=\"fill:#1f77b4;stroke:#1f77b4;\" x=\"351.853128\" xlink:href=\"#m9d73db56e9\" y=\"29.063802\"/>\r\n     <use style=\"fill:#1f77b4;stroke:#1f77b4;\" x=\"358.064631\" xlink:href=\"#m9d73db56e9\" y=\"168.832397\"/>\r\n     <use style=\"fill:#1f77b4;stroke:#1f77b4;\" x=\"69.229751\" xlink:href=\"#m9d73db56e9\" y=\"206.769587\"/>\r\n     <use style=\"fill:#1f77b4;stroke:#1f77b4;\" x=\"165.508044\" xlink:href=\"#m9d73db56e9\" y=\"138.881983\"/>\r\n     <use style=\"fill:#1f77b4;stroke:#1f77b4;\" x=\"149.979287\" xlink:href=\"#m9d73db56e9\" y=\"160.84562\"/>\r\n     <use style=\"fill:#1f77b4;stroke:#1f77b4;\" x=\"72.335503\" xlink:href=\"#m9d73db56e9\" y=\"74.987769\"/>\r\n     <use style=\"fill:#1f77b4;stroke:#1f77b4;\" x=\"193.459807\" xlink:href=\"#m9d73db56e9\" y=\"86.967934\"/>\r\n     <use style=\"fill:#1f77b4;stroke:#1f77b4;\" x=\"125.133276\" xlink:href=\"#m9d73db56e9\" y=\"76.984463\"/>\r\n     <use style=\"fill:#1f77b4;stroke:#1f77b4;\" x=\"72.335503\" xlink:href=\"#m9d73db56e9\" y=\"208.766281\"/>\r\n     <use style=\"fill:#1f77b4;stroke:#1f77b4;\" x=\"165.508044\" xlink:href=\"#m9d73db56e9\" y=\"86.967934\"/>\r\n     <use style=\"fill:#1f77b4;stroke:#1f77b4;\" x=\"280.420846\" xlink:href=\"#m9d73db56e9\" y=\"148.865455\"/>\r\n     <use style=\"fill:#1f77b4;stroke:#1f77b4;\" x=\"149.979287\" xlink:href=\"#m9d73db56e9\" y=\"162.842314\"/>\r\n     <use style=\"fill:#1f77b4;stroke:#1f77b4;\" x=\"122.027525\" xlink:href=\"#m9d73db56e9\" y=\"94.954711\"/>\r\n     <use style=\"fill:#1f77b4;stroke:#1f77b4;\" x=\"103.393017\" xlink:href=\"#m9d73db56e9\" y=\"106.934876\"/>\r\n     <use style=\"fill:#1f77b4;stroke:#1f77b4;\" x=\"97.181514\" xlink:href=\"#m9d73db56e9\" y=\"214.756364\"/>\r\n     <use style=\"fill:#1f77b4;stroke:#1f77b4;\" x=\"131.344779\" xlink:href=\"#m9d73db56e9\" y=\"174.822479\"/>\r\n     <use style=\"fill:#1f77b4;stroke:#1f77b4;\" x=\"56.806746\" xlink:href=\"#m9d73db56e9\" y=\"94.954711\"/>\r\n     <use style=\"fill:#1f77b4;stroke:#1f77b4;\" x=\"112.710271\" xlink:href=\"#m9d73db56e9\" y=\"174.822479\"/>\r\n     <use style=\"fill:#1f77b4;stroke:#1f77b4;\" x=\"323.901365\" xlink:href=\"#m9d73db56e9\" y=\"78.981157\"/>\r\n     <use style=\"fill:#1f77b4;stroke:#1f77b4;\" x=\"261.786338\" xlink:href=\"#m9d73db56e9\" y=\"86.967934\"/>\r\n     <use style=\"fill:#1f77b4;stroke:#1f77b4;\" x=\"84.758508\" xlink:href=\"#m9d73db56e9\" y=\"174.822479\"/>\r\n     <use style=\"fill:#1f77b4;stroke:#1f77b4;\" x=\"333.21862\" xlink:href=\"#m9d73db56e9\" y=\"45.037355\"/>\r\n     <use style=\"fill:#1f77b4;stroke:#1f77b4;\" x=\"289.7381\" xlink:href=\"#m9d73db56e9\" y=\"200.779504\"/>\r\n     <use style=\"fill:#1f77b4;stroke:#1f77b4;\" x=\"264.892089\" xlink:href=\"#m9d73db56e9\" y=\"106.934876\"/>\r\n     <use style=\"fill:#1f77b4;stroke:#1f77b4;\" x=\"159.296542\" xlink:href=\"#m9d73db56e9\" y=\"156.852231\"/>\r\n     <use style=\"fill:#1f77b4;stroke:#1f77b4;\" x=\"66.124\" xlink:href=\"#m9d73db56e9\" y=\"186.802645\"/>\r\n     <use style=\"fill:#1f77b4;stroke:#1f77b4;\" x=\"63.018248\" xlink:href=\"#m9d73db56e9\" y=\"122.90843\"/>\r\n     <use style=\"fill:#1f77b4;stroke:#1f77b4;\" x=\"348.747377\" xlink:href=\"#m9d73db56e9\" y=\"146.86876\"/>\r\n     <use style=\"fill:#1f77b4;stroke:#1f77b4;\" x=\"87.86426\" xlink:href=\"#m9d73db56e9\" y=\"55.020826\"/>\r\n     <use style=\"fill:#1f77b4;stroke:#1f77b4;\" x=\"122.027525\" xlink:href=\"#m9d73db56e9\" y=\"164.839008\"/>\r\n     <use style=\"fill:#1f77b4;stroke:#1f77b4;\" x=\"255.574835\" xlink:href=\"#m9d73db56e9\" y=\"148.865455\"/>\r\n     <use style=\"fill:#1f77b4;stroke:#1f77b4;\" x=\"286.632349\" xlink:href=\"#m9d73db56e9\" y=\"19.080331\"/>\r\n     <use style=\"fill:#1f77b4;stroke:#1f77b4;\" x=\"122.027525\" xlink:href=\"#m9d73db56e9\" y=\"51.027438\"/>\r\n     <use style=\"fill:#1f77b4;stroke:#1f77b4;\" x=\"295.949603\" xlink:href=\"#m9d73db56e9\" y=\"94.954711\"/>\r\n     <use style=\"fill:#1f77b4;stroke:#1f77b4;\" x=\"261.786338\" xlink:href=\"#m9d73db56e9\" y=\"63.007603\"/>\r\n     <use style=\"fill:#1f77b4;stroke:#1f77b4;\" x=\"97.181514\" xlink:href=\"#m9d73db56e9\" y=\"114.921653\"/>\r\n     <use style=\"fill:#1f77b4;stroke:#1f77b4;\" x=\"63.018248\" xlink:href=\"#m9d73db56e9\" y=\"49.030744\"/>\r\n     <use style=\"fill:#1f77b4;stroke:#1f77b4;\" x=\"302.161106\" xlink:href=\"#m9d73db56e9\" y=\"108.93157\"/>\r\n     <use style=\"fill:#1f77b4;stroke:#1f77b4;\" x=\"221.411569\" xlink:href=\"#m9d73db56e9\" y=\"130.895207\"/>\r\n     <use style=\"fill:#1f77b4;stroke:#1f77b4;\" x=\"292.843851\" xlink:href=\"#m9d73db56e9\" y=\"70.99438\"/>\r\n     <use style=\"fill:#1f77b4;stroke:#1f77b4;\" x=\"66.124\" xlink:href=\"#m9d73db56e9\" y=\"210.762975\"/>\r\n     <use style=\"fill:#1f77b4;stroke:#1f77b4;\" x=\"249.363332\" xlink:href=\"#m9d73db56e9\" y=\"98.948099\"/>\r\n     <use style=\"fill:#1f77b4;stroke:#1f77b4;\" x=\"227.623072\" xlink:href=\"#m9d73db56e9\" y=\"184.80595\"/>\r\n    </g>\r\n   </g>\r\n   <g id=\"matplotlib.axis_1\">\r\n    <g id=\"xtick_1\">\r\n     <g id=\"line2d_1\">\r\n      <defs>\r\n       <path d=\"M 0 0 \r\nL 0 3.5 \r\n\" id=\"me91805f53b\" style=\"stroke:#000000;stroke-width:0.8;\"/>\r\n      </defs>\r\n      <g>\r\n       <use style=\"stroke:#000000;stroke-width:0.8;\" x=\"64.004373\" xlink:href=\"#me91805f53b\" y=\"224.64\"/>\r\n      </g>\r\n     </g>\r\n     <g id=\"text_1\">\r\n      <!-- −1.5 -->\r\n      <g transform=\"translate(51.862967 239.238437)scale(0.1 -0.1)\">\r\n       <defs>\r\n        <path d=\"M 678 2272 \r\nL 4684 2272 \r\nL 4684 1741 \r\nL 678 1741 \r\nL 678 2272 \r\nz\r\n\" id=\"DejaVuSans-2212\" transform=\"scale(0.015625)\"/>\r\n        <path d=\"M 794 531 \r\nL 1825 531 \r\nL 1825 4091 \r\nL 703 3866 \r\nL 703 4441 \r\nL 1819 4666 \r\nL 2450 4666 \r\nL 2450 531 \r\nL 3481 531 \r\nL 3481 0 \r\nL 794 0 \r\nL 794 531 \r\nz\r\n\" id=\"DejaVuSans-31\" transform=\"scale(0.015625)\"/>\r\n        <path d=\"M 684 794 \r\nL 1344 794 \r\nL 1344 0 \r\nL 684 0 \r\nL 684 794 \r\nz\r\n\" id=\"DejaVuSans-2e\" transform=\"scale(0.015625)\"/>\r\n        <path d=\"M 691 4666 \r\nL 3169 4666 \r\nL 3169 4134 \r\nL 1269 4134 \r\nL 1269 2991 \r\nQ 1406 3038 1543 3061 \r\nQ 1681 3084 1819 3084 \r\nQ 2600 3084 3056 2656 \r\nQ 3513 2228 3513 1497 \r\nQ 3513 744 3044 326 \r\nQ 2575 -91 1722 -91 \r\nQ 1428 -91 1123 -41 \r\nQ 819 9 494 109 \r\nL 494 744 \r\nQ 775 591 1075 516 \r\nQ 1375 441 1709 441 \r\nQ 2250 441 2565 725 \r\nQ 2881 1009 2881 1497 \r\nQ 2881 1984 2565 2268 \r\nQ 2250 2553 1709 2553 \r\nQ 1456 2553 1204 2497 \r\nQ 953 2441 691 2322 \r\nL 691 4666 \r\nz\r\n\" id=\"DejaVuSans-35\" transform=\"scale(0.015625)\"/>\r\n       </defs>\r\n       <use xlink:href=\"#DejaVuSans-2212\"/>\r\n       <use x=\"83.789062\" xlink:href=\"#DejaVuSans-31\"/>\r\n       <use x=\"147.412109\" xlink:href=\"#DejaVuSans-2e\"/>\r\n       <use x=\"179.199219\" xlink:href=\"#DejaVuSans-35\"/>\r\n      </g>\r\n     </g>\r\n    </g>\r\n    <g id=\"xtick_2\">\r\n     <g id=\"line2d_2\">\r\n      <g>\r\n       <use style=\"stroke:#000000;stroke-width:0.8;\" x=\"110.738151\" xlink:href=\"#me91805f53b\" y=\"224.64\"/>\r\n      </g>\r\n     </g>\r\n     <g id=\"text_2\">\r\n      <!-- −1.0 -->\r\n      <g transform=\"translate(98.596745 239.238437)scale(0.1 -0.1)\">\r\n       <defs>\r\n        <path d=\"M 2034 4250 \r\nQ 1547 4250 1301 3770 \r\nQ 1056 3291 1056 2328 \r\nQ 1056 1369 1301 889 \r\nQ 1547 409 2034 409 \r\nQ 2525 409 2770 889 \r\nQ 3016 1369 3016 2328 \r\nQ 3016 3291 2770 3770 \r\nQ 2525 4250 2034 4250 \r\nz\r\nM 2034 4750 \r\nQ 2819 4750 3233 4129 \r\nQ 3647 3509 3647 2328 \r\nQ 3647 1150 3233 529 \r\nQ 2819 -91 2034 -91 \r\nQ 1250 -91 836 529 \r\nQ 422 1150 422 2328 \r\nQ 422 3509 836 4129 \r\nQ 1250 4750 2034 4750 \r\nz\r\n\" id=\"DejaVuSans-30\" transform=\"scale(0.015625)\"/>\r\n       </defs>\r\n       <use xlink:href=\"#DejaVuSans-2212\"/>\r\n       <use x=\"83.789062\" xlink:href=\"#DejaVuSans-31\"/>\r\n       <use x=\"147.412109\" xlink:href=\"#DejaVuSans-2e\"/>\r\n       <use x=\"179.199219\" xlink:href=\"#DejaVuSans-30\"/>\r\n      </g>\r\n     </g>\r\n    </g>\r\n    <g id=\"xtick_3\">\r\n     <g id=\"line2d_3\">\r\n      <g>\r\n       <use style=\"stroke:#000000;stroke-width:0.8;\" x=\"157.471929\" xlink:href=\"#me91805f53b\" y=\"224.64\"/>\r\n      </g>\r\n     </g>\r\n     <g id=\"text_3\">\r\n      <!-- −0.5 -->\r\n      <g transform=\"translate(145.330523 239.238437)scale(0.1 -0.1)\">\r\n       <use xlink:href=\"#DejaVuSans-2212\"/>\r\n       <use x=\"83.789062\" xlink:href=\"#DejaVuSans-30\"/>\r\n       <use x=\"147.412109\" xlink:href=\"#DejaVuSans-2e\"/>\r\n       <use x=\"179.199219\" xlink:href=\"#DejaVuSans-35\"/>\r\n      </g>\r\n     </g>\r\n    </g>\r\n    <g id=\"xtick_4\">\r\n     <g id=\"line2d_4\">\r\n      <g>\r\n       <use style=\"stroke:#000000;stroke-width:0.8;\" x=\"204.205707\" xlink:href=\"#me91805f53b\" y=\"224.64\"/>\r\n      </g>\r\n     </g>\r\n     <g id=\"text_4\">\r\n      <!-- 0.0 -->\r\n      <g transform=\"translate(196.254144 239.238437)scale(0.1 -0.1)\">\r\n       <use xlink:href=\"#DejaVuSans-30\"/>\r\n       <use x=\"63.623047\" xlink:href=\"#DejaVuSans-2e\"/>\r\n       <use x=\"95.410156\" xlink:href=\"#DejaVuSans-30\"/>\r\n      </g>\r\n     </g>\r\n    </g>\r\n    <g id=\"xtick_5\">\r\n     <g id=\"line2d_5\">\r\n      <g>\r\n       <use style=\"stroke:#000000;stroke-width:0.8;\" x=\"250.939485\" xlink:href=\"#me91805f53b\" y=\"224.64\"/>\r\n      </g>\r\n     </g>\r\n     <g id=\"text_5\">\r\n      <!-- 0.5 -->\r\n      <g transform=\"translate(242.987922 239.238437)scale(0.1 -0.1)\">\r\n       <use xlink:href=\"#DejaVuSans-30\"/>\r\n       <use x=\"63.623047\" xlink:href=\"#DejaVuSans-2e\"/>\r\n       <use x=\"95.410156\" xlink:href=\"#DejaVuSans-35\"/>\r\n      </g>\r\n     </g>\r\n    </g>\r\n    <g id=\"xtick_6\">\r\n     <g id=\"line2d_6\">\r\n      <g>\r\n       <use style=\"stroke:#000000;stroke-width:0.8;\" x=\"297.673263\" xlink:href=\"#me91805f53b\" y=\"224.64\"/>\r\n      </g>\r\n     </g>\r\n     <g id=\"text_6\">\r\n      <!-- 1.0 -->\r\n      <g transform=\"translate(289.7217 239.238437)scale(0.1 -0.1)\">\r\n       <use xlink:href=\"#DejaVuSans-31\"/>\r\n       <use x=\"63.623047\" xlink:href=\"#DejaVuSans-2e\"/>\r\n       <use x=\"95.410156\" xlink:href=\"#DejaVuSans-30\"/>\r\n      </g>\r\n     </g>\r\n    </g>\r\n    <g id=\"xtick_7\">\r\n     <g id=\"line2d_7\">\r\n      <g>\r\n       <use style=\"stroke:#000000;stroke-width:0.8;\" x=\"344.407041\" xlink:href=\"#me91805f53b\" y=\"224.64\"/>\r\n      </g>\r\n     </g>\r\n     <g id=\"text_7\">\r\n      <!-- 1.5 -->\r\n      <g transform=\"translate(336.455478 239.238437)scale(0.1 -0.1)\">\r\n       <use xlink:href=\"#DejaVuSans-31\"/>\r\n       <use x=\"63.623047\" xlink:href=\"#DejaVuSans-2e\"/>\r\n       <use x=\"95.410156\" xlink:href=\"#DejaVuSans-35\"/>\r\n      </g>\r\n     </g>\r\n    </g>\r\n   </g>\r\n   <g id=\"matplotlib.axis_2\">\r\n    <g id=\"ytick_1\">\r\n     <g id=\"line2d_8\">\r\n      <defs>\r\n       <path d=\"M 0 0 \r\nL -3.5 0 \r\n\" id=\"m29416c1138\" style=\"stroke:#000000;stroke-width:0.8;\"/>\r\n      </defs>\r\n      <g>\r\n       <use style=\"stroke:#000000;stroke-width:0.8;\" x=\"38.482813\" xlink:href=\"#m29416c1138\" y=\"200.800673\"/>\r\n      </g>\r\n     </g>\r\n     <g id=\"text_8\">\r\n      <!-- −1.5 -->\r\n      <g transform=\"translate(7.2 204.599892)scale(0.1 -0.1)\">\r\n       <use xlink:href=\"#DejaVuSans-2212\"/>\r\n       <use x=\"83.789062\" xlink:href=\"#DejaVuSans-31\"/>\r\n       <use x=\"147.412109\" xlink:href=\"#DejaVuSans-2e\"/>\r\n       <use x=\"179.199219\" xlink:href=\"#DejaVuSans-35\"/>\r\n      </g>\r\n     </g>\r\n    </g>\r\n    <g id=\"ytick_2\">\r\n     <g id=\"line2d_9\">\r\n      <g>\r\n       <use style=\"stroke:#000000;stroke-width:0.8;\" x=\"38.482813\" xlink:href=\"#m29416c1138\" y=\"171.841551\"/>\r\n      </g>\r\n     </g>\r\n     <g id=\"text_9\">\r\n      <!-- −1.0 -->\r\n      <g transform=\"translate(7.2 175.64077)scale(0.1 -0.1)\">\r\n       <use xlink:href=\"#DejaVuSans-2212\"/>\r\n       <use x=\"83.789062\" xlink:href=\"#DejaVuSans-31\"/>\r\n       <use x=\"147.412109\" xlink:href=\"#DejaVuSans-2e\"/>\r\n       <use x=\"179.199219\" xlink:href=\"#DejaVuSans-30\"/>\r\n      </g>\r\n     </g>\r\n    </g>\r\n    <g id=\"ytick_3\">\r\n     <g id=\"line2d_10\">\r\n      <g>\r\n       <use style=\"stroke:#000000;stroke-width:0.8;\" x=\"38.482813\" xlink:href=\"#m29416c1138\" y=\"142.882428\"/>\r\n      </g>\r\n     </g>\r\n     <g id=\"text_10\">\r\n      <!-- −0.5 -->\r\n      <g transform=\"translate(7.2 146.681647)scale(0.1 -0.1)\">\r\n       <use xlink:href=\"#DejaVuSans-2212\"/>\r\n       <use x=\"83.789062\" xlink:href=\"#DejaVuSans-30\"/>\r\n       <use x=\"147.412109\" xlink:href=\"#DejaVuSans-2e\"/>\r\n       <use x=\"179.199219\" xlink:href=\"#DejaVuSans-35\"/>\r\n      </g>\r\n     </g>\r\n    </g>\r\n    <g id=\"ytick_4\">\r\n     <g id=\"line2d_11\">\r\n      <g>\r\n       <use style=\"stroke:#000000;stroke-width:0.8;\" x=\"38.482813\" xlink:href=\"#m29416c1138\" y=\"113.923306\"/>\r\n      </g>\r\n     </g>\r\n     <g id=\"text_11\">\r\n      <!-- 0.0 -->\r\n      <g transform=\"translate(15.579688 117.722525)scale(0.1 -0.1)\">\r\n       <use xlink:href=\"#DejaVuSans-30\"/>\r\n       <use x=\"63.623047\" xlink:href=\"#DejaVuSans-2e\"/>\r\n       <use x=\"95.410156\" xlink:href=\"#DejaVuSans-30\"/>\r\n      </g>\r\n     </g>\r\n    </g>\r\n    <g id=\"ytick_5\">\r\n     <g id=\"line2d_12\">\r\n      <g>\r\n       <use style=\"stroke:#000000;stroke-width:0.8;\" x=\"38.482813\" xlink:href=\"#m29416c1138\" y=\"84.964183\"/>\r\n      </g>\r\n     </g>\r\n     <g id=\"text_12\">\r\n      <!-- 0.5 -->\r\n      <g transform=\"translate(15.579688 88.763402)scale(0.1 -0.1)\">\r\n       <use xlink:href=\"#DejaVuSans-30\"/>\r\n       <use x=\"63.623047\" xlink:href=\"#DejaVuSans-2e\"/>\r\n       <use x=\"95.410156\" xlink:href=\"#DejaVuSans-35\"/>\r\n      </g>\r\n     </g>\r\n    </g>\r\n    <g id=\"ytick_6\">\r\n     <g id=\"line2d_13\">\r\n      <g>\r\n       <use style=\"stroke:#000000;stroke-width:0.8;\" x=\"38.482813\" xlink:href=\"#m29416c1138\" y=\"56.005061\"/>\r\n      </g>\r\n     </g>\r\n     <g id=\"text_13\">\r\n      <!-- 1.0 -->\r\n      <g transform=\"translate(15.579688 59.804279)scale(0.1 -0.1)\">\r\n       <use xlink:href=\"#DejaVuSans-31\"/>\r\n       <use x=\"63.623047\" xlink:href=\"#DejaVuSans-2e\"/>\r\n       <use x=\"95.410156\" xlink:href=\"#DejaVuSans-30\"/>\r\n      </g>\r\n     </g>\r\n    </g>\r\n    <g id=\"ytick_7\">\r\n     <g id=\"line2d_14\">\r\n      <g>\r\n       <use style=\"stroke:#000000;stroke-width:0.8;\" x=\"38.482813\" xlink:href=\"#m29416c1138\" y=\"27.045938\"/>\r\n      </g>\r\n     </g>\r\n     <g id=\"text_14\">\r\n      <!-- 1.5 -->\r\n      <g transform=\"translate(15.579688 30.845157)scale(0.1 -0.1)\">\r\n       <use xlink:href=\"#DejaVuSans-31\"/>\r\n       <use x=\"63.623047\" xlink:href=\"#DejaVuSans-2e\"/>\r\n       <use x=\"95.410156\" xlink:href=\"#DejaVuSans-35\"/>\r\n      </g>\r\n     </g>\r\n    </g>\r\n   </g>\r\n   <g id=\"patch_3\">\r\n    <path d=\"M 38.482813 224.64 \r\nL 38.482813 7.2 \r\n\" style=\"fill:none;stroke:#000000;stroke-linecap:square;stroke-linejoin:miter;stroke-width:0.8;\"/>\r\n   </g>\r\n   <g id=\"patch_4\">\r\n    <path d=\"M 373.282813 224.64 \r\nL 373.282813 7.2 \r\n\" style=\"fill:none;stroke:#000000;stroke-linecap:square;stroke-linejoin:miter;stroke-width:0.8;\"/>\r\n   </g>\r\n   <g id=\"patch_5\">\r\n    <path d=\"M 38.482812 224.64 \r\nL 373.282813 224.64 \r\n\" style=\"fill:none;stroke:#000000;stroke-linecap:square;stroke-linejoin:miter;stroke-width:0.8;\"/>\r\n   </g>\r\n   <g id=\"patch_6\">\r\n    <path d=\"M 38.482812 7.2 \r\nL 373.282813 7.2 \r\n\" style=\"fill:none;stroke:#000000;stroke-linecap:square;stroke-linejoin:miter;stroke-width:0.8;\"/>\r\n   </g>\r\n  </g>\r\n </g>\r\n <defs>\r\n  <clipPath id=\"p5295e2a17a\">\r\n   <rect height=\"217.44\" width=\"334.8\" x=\"38.482813\" y=\"7.2\"/>\r\n  </clipPath>\r\n </defs>\r\n</svg>\r\n",
      "image/png": "[encoded data removed]"
     },
     "metadata": {
      "needs_background": "light"
     }
    }
   ],
   "source": [
    "plt.scatter(x[:,0], x[:,1])\n",
    "plt.show()"
   ]
  },
  {
   "cell_type": "code",
   "execution_count": 30,
   "metadata": {},
   "outputs": [
    {
     "output_type": "execute_result",
     "data": {
      "text/plain": [
       "(-1.7208456881689926e-17, 1.0)"
      ]
     },
     "metadata": {},
     "execution_count": 30
    }
   ],
   "source": [
    "np.mean(x[:,0]), np.std(x[:,0])"
   ]
  },
  {
   "cell_type": "code",
   "execution_count": 31,
   "metadata": {},
   "outputs": [
    {
     "output_type": "execute_result",
     "data": {
      "text/plain": [
       "(1.3322676295501878e-17, 1.0)"
      ]
     },
     "metadata": {},
     "execution_count": 31
    }
   ],
   "source": [
    "np.mean(x[:,1]), np.std(x[:,1])"
   ]
  },
  {
   "cell_type": "code",
   "execution_count": null,
   "metadata": {},
   "outputs": [],
   "source": []
  }
 ]
}